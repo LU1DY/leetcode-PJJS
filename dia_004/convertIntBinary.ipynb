{
 "cells": [
  {
   "cell_type": "code",
   "execution_count": 143,
   "id": "92ca94ea",
   "metadata": {},
   "outputs": [],
   "source": [
    "class No:\n",
    "    def __init__(self, valor):\n",
    "        self.valor = valor\n",
    "        self.proximo = None"
   ]
  },
  {
   "cell_type": "code",
   "execution_count": 144,
   "id": "a6715438",
   "metadata": {},
   "outputs": [],
   "source": [
    "class ListaEncadeada:\n",
    "    def __init__(self):\n",
    "        self.primeiro = None\n",
    "    \n",
    "    def adicionar_fim(self, valor):\n",
    "        novo_no = No(valor)\n",
    "        if self.primeiro is None:\n",
    "            self.primeiro = novo_no\n",
    "        else:\n",
    "            atual = self.primeiro\n",
    "            while atual.proximo is not None:\n",
    "                atual = atual.proximo\n",
    "            atual.proximo = novo_no\n",
    "    \n",
    "    def imprimir(self):\n",
    "        atual = self.primeiro\n",
    "        while atual is not None:\n",
    "            print(atual.valor)\n",
    "            atual = atual.proximo\n",
    "            "
   ]
  },
  {
   "cell_type": "code",
   "execution_count": 145,
   "id": "a1d9c878",
   "metadata": {},
   "outputs": [],
   "source": [
    "lista_encadeada = ListaEncadeada()"
   ]
  },
  {
   "cell_type": "code",
   "execution_count": null,
   "id": "e364b480",
   "metadata": {},
   "outputs": [
    {
     "name": "stdout",
     "output_type": "stream",
     "text": [
      "0\n",
      "0\n",
      "0\n",
      "0\n",
      "0\n",
      "0\n",
      "0\n"
     ]
    }
   ],
   "source": [
    "lista = [1, 0, 1, 0, 1, 1, 0]\n",
    "for bit in lista:\n",
    "    lista_encadeada.adicionar_fim(bit)"
   ]
  },
  {
   "cell_type": "code",
   "execution_count": 147,
   "id": "c93d763a",
   "metadata": {},
   "outputs": [
    {
     "name": "stdout",
     "output_type": "stream",
     "text": [
      "1\n",
      "0\n",
      "1\n",
      "0\n",
      "1\n",
      "1\n",
      "0\n"
     ]
    }
   ],
   "source": [
    "lista_encadeada.imprimir()"
   ]
  },
  {
   "cell_type": "code",
   "execution_count": 149,
   "id": "fcda7eca",
   "metadata": {},
   "outputs": [
    {
     "name": "stdout",
     "output_type": "stream",
     "text": [
      "86\n"
     ]
    }
   ],
   "source": [
    "def convert(head):\n",
    "    num = 0\n",
    "    while head:\n",
    "        num = num * 2 + head.valor\n",
    "        head = head.proximo\n",
    "    return num\n",
    "\n",
    "print(convert(lista_encadeada.primeiro))"
   ]
  }
 ],
 "metadata": {
  "kernelspec": {
   "display_name": "Python 3",
   "language": "python",
   "name": "python3"
  },
  "language_info": {
   "codemirror_mode": {
    "name": "ipython",
    "version": 3
   },
   "file_extension": ".py",
   "mimetype": "text/x-python",
   "name": "python",
   "nbconvert_exporter": "python",
   "pygments_lexer": "ipython3",
   "version": "3.12.2"
  }
 },
 "nbformat": 4,
 "nbformat_minor": 5
}
